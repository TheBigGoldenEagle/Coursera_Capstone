{
  "cells": [
    {
      "metadata": {},
      "cell_type": "markdown",
      "source": "The purpose of this Notebook to add the latitude and the longitude coordinates of each neighborhood to the dataframe created in the Segmenting and Clustering Neighborhoods in Toronto_part1.ipynb notebook so the Foursquare location data can be utilized"
    },
    {
      "metadata": {
        "collapsed": true
      },
      "cell_type": "markdown",
      "source": "#### Importing required libraries\n"
    },
    {
      "metadata": {
        "trusted": true
      },
      "cell_type": "code",
      "source": "import pandas as pd\nimport requests   \nimport lxml\nfrom bs4 import BeautifulSoup       \n",
      "execution_count": 2,
      "outputs": []
    },
    {
      "metadata": {},
      "cell_type": "markdown",
      "source": "#### Scraping the Wikipedia page and conerting its data into a pandas dataframe with three columns: Postalcode, Borough, Neighborhood"
    },
    {
      "metadata": {
        "trusted": true
      },
      "cell_type": "code",
      "source": "raw_data = requests.get(\"https://en.wikipedia.org/wiki/List_of_postal_codes_of_Canada:_M\").text\nsoup = BeautifulSoup(raw_data,'lxml')\ntable=soup.find('table', attrs={'class':'wikitable sortable'})\ndf = df = pd.DataFrame(columns = ['Postalcode','Borough','Neighborhood'])\nrows = table.find_all('tr')\nfor row in rows:\n    data=[]\n    for td in row.find_all('td'):\n        data.append(td.text.strip())\n    if len(data)==3:\n        df.loc[len(df)] = data\n",
      "execution_count": 3,
      "outputs": []
    },
    {
      "metadata": {},
      "cell_type": "markdown",
      "source": "#### Only the cells that have an assigned borough are processed and therefore the cells with a borough that is Not assigned are ignored"
    },
    {
      "metadata": {
        "trusted": true
      },
      "cell_type": "code",
      "source": "df = df[df.Borough != \"Not assigned\"]",
      "execution_count": 4,
      "outputs": []
    },
    {
      "metadata": {},
      "cell_type": "markdown",
      "source": "#### If a cell has a borough but a Not assigned neighborhood, then the neighborhood will be the same as the borough"
    },
    {
      "metadata": {
        "trusted": true
      },
      "cell_type": "code",
      "source": "df['Neighborhood'] = df.Neighborhood.apply(lambda x: x if not pd.isnull(x) else df.Borough)",
      "execution_count": 5,
      "outputs": []
    },
    {
      "metadata": {},
      "cell_type": "markdown",
      "source": "#### Reading the csv file that includes the geographical coordinates of each postal code into a new data frame"
    },
    {
      "metadata": {
        "trusted": true
      },
      "cell_type": "code",
      "source": "coordinates_df=pd.read_csv('http://cocl.us/Geospatial_data')",
      "execution_count": 6,
      "outputs": []
    },
    {
      "metadata": {
        "trusted": true
      },
      "cell_type": "markdown",
      "source": "We rename the \"Postal Code\" column to \"Postalcode\" so we can merge it with the df dataframe"
    },
    {
      "metadata": {
        "trusted": true
      },
      "cell_type": "code",
      "source": "coordinates_df.rename(columns={'Postal Code':'Postalcode'},inplace=True)\nnew_df = pd.merge(df, coordinates_df, on='Postalcode')",
      "execution_count": 8,
      "outputs": []
    },
    {
      "metadata": {
        "trusted": true
      },
      "cell_type": "code",
      "source": "new_df.head()",
      "execution_count": 9,
      "outputs": [
        {
          "output_type": "execute_result",
          "execution_count": 9,
          "data": {
            "text/html": "<div>\n<style scoped>\n    .dataframe tbody tr th:only-of-type {\n        vertical-align: middle;\n    }\n\n    .dataframe tbody tr th {\n        vertical-align: top;\n    }\n\n    .dataframe thead th {\n        text-align: right;\n    }\n</style>\n<table border=\"1\" class=\"dataframe\">\n  <thead>\n    <tr style=\"text-align: right;\">\n      <th></th>\n      <th>Postalcode</th>\n      <th>Borough</th>\n      <th>Neighborhood</th>\n      <th>Latitude</th>\n      <th>Longitude</th>\n    </tr>\n  </thead>\n  <tbody>\n    <tr>\n      <th>0</th>\n      <td>M3A</td>\n      <td>North York</td>\n      <td>Parkwoods</td>\n      <td>43.753259</td>\n      <td>-79.329656</td>\n    </tr>\n    <tr>\n      <th>1</th>\n      <td>M4A</td>\n      <td>North York</td>\n      <td>Victoria Village</td>\n      <td>43.725882</td>\n      <td>-79.315572</td>\n    </tr>\n    <tr>\n      <th>2</th>\n      <td>M5A</td>\n      <td>Downtown Toronto</td>\n      <td>Regent Park, Harbourfront</td>\n      <td>43.654260</td>\n      <td>-79.360636</td>\n    </tr>\n    <tr>\n      <th>3</th>\n      <td>M6A</td>\n      <td>North York</td>\n      <td>Lawrence Manor, Lawrence Heights</td>\n      <td>43.718518</td>\n      <td>-79.464763</td>\n    </tr>\n    <tr>\n      <th>4</th>\n      <td>M7A</td>\n      <td>Downtown Toronto</td>\n      <td>Queen's Park, Ontario Provincial Government</td>\n      <td>43.662301</td>\n      <td>-79.389494</td>\n    </tr>\n  </tbody>\n</table>\n</div>",
            "text/plain": "  Postalcode           Borough                                 Neighborhood  \\\n0        M3A        North York                                    Parkwoods   \n1        M4A        North York                             Victoria Village   \n2        M5A  Downtown Toronto                    Regent Park, Harbourfront   \n3        M6A        North York             Lawrence Manor, Lawrence Heights   \n4        M7A  Downtown Toronto  Queen's Park, Ontario Provincial Government   \n\n    Latitude  Longitude  \n0  43.753259 -79.329656  \n1  43.725882 -79.315572  \n2  43.654260 -79.360636  \n3  43.718518 -79.464763  \n4  43.662301 -79.389494  "
          },
          "metadata": {}
        }
      ]
    },
    {
      "metadata": {},
      "cell_type": "markdown",
      "source": "### Exploring and clustering the neighborhoods in Toronto. Working with North Yourk Borough"
    },
    {
      "metadata": {},
      "cell_type": "markdown",
      "source": "First the necessary libraries are imported"
    },
    {
      "metadata": {
        "trusted": true
      },
      "cell_type": "code",
      "source": "!conda install -c conda-forge geopy --yes \nfrom geopy.geocoders import Nominatim # module to convert an address into latitude and longitude values\n\n# libraries for displaying images\nfrom IPython.display import Image \nfrom IPython.core.display import HTML \n    \n# tranforming json file into a pandas dataframe library\nfrom pandas.io.json import json_normalize\n\n!conda install -c conda-forge folium=0.5.0 --yes\nimport folium # plotting library\n",
      "execution_count": 12,
      "outputs": [
        {
          "output_type": "stream",
          "text": "Solving environment: done\n\n\n==> WARNING: A newer version of conda exists. <==\n  current version: 4.5.11\n  latest version: 4.8.3\n\nPlease update conda by running\n\n    $ conda update -n base -c defaults conda\n\n\n\n## Package Plan ##\n\n  environment location: /home/nbuser/anaconda3_501\n\n  added / updated specs: \n    - geopy\n\n\nThe following packages will be downloaded:\n\n    package                    |            build\n    ---------------------------|-----------------\n    geographiclib-1.50         |             py_0          34 KB  conda-forge\n    python_abi-3.6             |          1_cp36m           4 KB  conda-forge\n    conda-4.8.2                |           py36_0         3.0 MB  conda-forge\n    conda-package-handling-1.6.0|   py36h8c4c3a4_2         947 KB  conda-forge\n    geopy-1.22.0               |     pyh9f0ad1d_0          63 KB  conda-forge\n    ------------------------------------------------------------\n                                           Total:         4.0 MB\n\nThe following NEW packages will be INSTALLED:\n\n    conda-package-handling: 1.6.0-py36h8c4c3a4_2 conda-forge\n    geographiclib:          1.50-py_0            conda-forge\n    geopy:                  1.22.0-pyh9f0ad1d_0  conda-forge\n    python_abi:             3.6-1_cp36m          conda-forge\n\nThe following packages will be UPDATED:\n\n    conda:                  4.5.11-py36_0                    --> 4.8.2-py36_0 conda-forge\n\n\nDownloading and Extracting Packages\ngeographiclib-1.50   | 34 KB     | ##################################### | 100% \npython_abi-3.6       | 4 KB      | ##################################### | 100% \nconda-4.8.2          | 3.0 MB    | ##################################### | 100% \nconda-package-handli | 947 KB    | ##################################### | 100% \ngeopy-1.22.0         | 63 KB     | ##################################### | 100% \nPreparing transaction: done\nVerifying transaction: done\nExecuting transaction: done\nCollecting package metadata (repodata.json): done\nSolving environment: \\ \nThe environment is inconsistent, please check the package plan carefully\nThe following packages are causing the inconsistency:\n\n  - defaults/linux-64::pytest-doctestplus==0.1.3=py36_0\n  - defaults/linux-64::patsy==0.5.1=py36_0\n  - defaults/linux-64::pytest-arraydiff==0.2=py36h39e3cac_0\n  - defaults/linux-64::hdmedians==0.13=py36h035aef0_0\n  - defaults/linux-64::scikit-learn==0.19.2=py37h4989274_0\n  - defaults/linux-64::bkcharts==0.2=py36_0\n  - defaults/linux-64::blaze==0.11.3=py36_0\n  - https://repo.anaconda.com/pkgs/free/linux-64::pymc==2.3.6=np111py36_2\n  - defaults/linux-64::pandasql==0.7.3=py36_1\n  - defaults/linux-64::mkl_random==1.0.1=py36h4414c95_1\n  - defaults/linux-64::statsmodels==0.9.0=py36h035aef0_0\n  - defaults/linux-64::odo==0.5.1=py36_0\n  - defaults/linux-64::pandas==0.22.0=py36hf484d3e_0\n  - defaults/linux-64::dask==0.19.3=py36_0\n  - defaults/linux-64::scipy==1.1.0=py36hd20e5f9_0\n  - defaults/linux-64::seaborn==0.9.0=py36_0\n  - defaults/linux-64::anaconda==5.3.0=py37_0\n  - defaults/linux-64::pywavelets==1.0.1=py36hdd07704_0\n  - defaults/linux-64::matplotlib==3.0.0=py36h5429711_0\n  - defaults/linux-64::holoviews==1.10.7=py36_0\n  - defaults/linux-64::numpy==1.11.3=py36h1d66e8a_10\n  - defaults/linux-64::pytables==3.4.4=py36he1c29e1_0\n  - defaults/linux-64::h5py==2.8.0=py36h39dcb92_0\n  - pytorch/linux-64::pytorch==1.3.1=py3.6_cpu_0\n  - defaults/linux-64::pytest-astropy==0.4.0=py36_0\n  - defaults/linux-64::imageio==2.4.1=py36_0\n  - defaults/linux-64::astropy==3.0.4=py36h14c3975_0\n  - defaults/linux-64::numexpr==2.6.8=py36hd89afb7_0\n  - defaults/linux-64::mkl_fft==1.0.6=py36h7dd41cf_0\n  - defaults/linux-64::bokeh==0.13.0=py36_0\n  - defaults/linux-64::bottleneck==1.2.1=py36h035aef0_1\n  - defaults/linux-64::gdal==2.3.0=py36h04863e7_1\n  - defaults/linux-64::scikit-image==0.14.0=py37hf484d3e_1\n  - defaults/linux-64::datashape==0.5.4=py36_1\n  - defaults/linux-64::numba==0.40.0=py36h962f231_0\n  - defaults/linux-64::numpy-base==1.11.3=py36h81de0dd_10\n  - pytorch/linux-64::torchvision==0.4.2=py36_cpu\ndone\n\n## Package Plan ##\n\n  environment location: /home/nbuser/anaconda3_501\n\n  added / updated specs:\n    - folium=0.5.0\n\n\nThe following packages will be downloaded:\n\n    package                    |            build\n    ---------------------------|-----------------\n    _anaconda_depends-2019.10  |           py36_0           5 KB\n    altair-4.1.0               |             py_1         614 KB  conda-forge\n    anaconda-custom            |           py36_1           3 KB\n    backports.os-0.1.1         |py36h9f0ad1d_1002          15 KB  conda-forge\n    branca-0.4.1               |             py_0          26 KB  conda-forge\n    ca-certificates-2020.4.5.1 |       hecc5488_0         146 KB  conda-forge\n    certifi-2020.4.5.1         |   py36h9f0ad1d_0         151 KB  conda-forge\n    conda-4.8.3                |   py36h9f0ad1d_1         3.0 MB  conda-forge\n    folium-0.5.0               |             py_0          45 KB  conda-forge\n    fsspec-0.7.3               |             py_0          51 KB  conda-forge\n    importlib-metadata-1.6.0   |   py36h9f0ad1d_0          43 KB  conda-forge\n    importlib_metadata-1.6.0   |                0           3 KB  conda-forge\n    joblib-0.15.1              |             py_0         202 KB  conda-forge\n    json5-0.9.0                |             py_0          24 KB  conda-forge\n    jupyterlab_server-0.3.2    |             py_0          23 KB  conda-forge\n    liblief-0.9.0              |       hf8a498c_1         4.2 MB  conda-forge\n    openssl-1.0.2u             |       h516909a_0         3.2 MB  conda-forge\n    py-lief-0.9.0              |   py36he1b5a44_1         1.4 MB  conda-forge\n    pyrsistent-0.16.0          |   py36h8c4c3a4_0          89 KB  conda-forge\n    ripgrep-12.1.0             |       h516909a_0         1.8 MB  conda-forge\n    scikit-image-0.14.2        |   py36hf484d3e_0        24.0 MB  conda-forge\n    scikit-learn-0.20.1        |   py36h4989274_0         5.7 MB\n    soupsieve-2.0.1            |   py36h9f0ad1d_0          56 KB  conda-forge\n    sphinxcontrib-applehelp-1.0.2|             py_0          28 KB  conda-forge\n    sphinxcontrib-devhelp-1.0.2|             py_0          22 KB  conda-forge\n    sphinxcontrib-htmlhelp-1.0.3|             py_0          27 KB  conda-forge\n    sphinxcontrib-jsmath-1.0.1 |             py_0           7 KB  conda-forge\n    sphinxcontrib-qthelp-1.0.3 |             py_0          25 KB  conda-forge\n    sphinxcontrib-serializinghtml-1.1.4|             py_0          24 KB  conda-forge\n    tbb-2020.1                 |       hc9558a2_0         1.4 MB  conda-forge\n    tbb4py-2020.1              |   py36hc9558a2_0         245 KB  conda-forge\n    vincent-0.4.4              |             py_1          28 KB  conda-forge\n    wurlitzer-2.0.0            |   py36h9f0ad1d_1          12 KB  conda-forge\n    zipp-3.1.0                 |             py_0          10 KB  conda-forge\n    ------------------------------------------------------------\n                                           Total:        46.6 MB\n\nThe following NEW packages will be INSTALLED:\n\n  _anaconda_depends  pkgs/main/linux-64::_anaconda_depends-2019.10-py36_0\n  altair             conda-forge/noarch::altair-4.1.0-py_1\n  backports.os       conda-forge/linux-64::backports.os-0.1.1-py36h9f0ad1d_1002\n  branca             conda-forge/noarch::branca-0.4.1-py_0\n  folium             conda-forge/noarch::folium-0.5.0-py_0\n  fsspec             conda-forge/noarch::fsspec-0.7.3-py_0\n  importlib-metadata conda-forge/linux-64::importlib-metadata-1.6.0-py36h9f0ad1d_0\n  importlib_metadata conda-forge/noarch::importlib_metadata-1.6.0-0\n  joblib             conda-forge/noarch::joblib-0.15.1-py_0\n  json5              conda-forge/noarch::json5-0.9.0-py_0\n  jupyterlab_server  conda-forge/noarch::jupyterlab_server-0.3.2-py_0\n  liblief            conda-forge/linux-64::liblief-0.9.0-hf8a498c_1\n  py-lief            conda-forge/linux-64::py-lief-0.9.0-py36he1b5a44_1\n  pyrsistent         conda-forge/linux-64::pyrsistent-0.16.0-py36h8c4c3a4_0\n  ripgrep            conda-forge/linux-64::ripgrep-12.1.0-h516909a_0\n  soupsieve          conda-forge/linux-64::soupsieve-2.0.1-py36h9f0ad1d_0\n  sphinxcontrib-app~ conda-forge/noarch::sphinxcontrib-applehelp-1.0.2-py_0\n  sphinxcontrib-dev~ conda-forge/noarch::sphinxcontrib-devhelp-1.0.2-py_0\n  sphinxcontrib-htm~ conda-forge/noarch::sphinxcontrib-htmlhelp-1.0.3-py_0\n  sphinxcontrib-jsm~ conda-forge/noarch::sphinxcontrib-jsmath-1.0.1-py_0\n  sphinxcontrib-qth~ conda-forge/noarch::sphinxcontrib-qthelp-1.0.3-py_0\n  sphinxcontrib-ser~ conda-forge/noarch::sphinxcontrib-serializinghtml-1.1.4-py_0\n  tbb                conda-forge/linux-64::tbb-2020.1-hc9558a2_0\n  tbb4py             conda-forge/linux-64::tbb4py-2020.1-py36hc9558a2_0\n  vincent            conda-forge/noarch::vincent-0.4.4-py_1\n  wurlitzer          conda-forge/linux-64::wurlitzer-2.0.0-py36h9f0ad1d_1\n  zipp               conda-forge/noarch::zipp-3.1.0-py_0\n\nThe following packages will be UPDATED:\n\n  ca-certificates    pkgs/main::ca-certificates-2018.03.07~ --> conda-forge::ca-certificates-2020.4.5.1-hecc5488_0\n  certifi              pkgs/main::certifi-2018.10.15-py36_0 --> conda-forge::certifi-2020.4.5.1-py36h9f0ad1d_0\n  conda                                        4.8.2-py36_0 --> 4.8.3-py36h9f0ad1d_1\n  openssl              pkgs/main::openssl-1.0.2p-h14c3975_0 --> conda-forge::openssl-1.0.2u-h516909a_0\n  scikit-image       pkgs/main::scikit-image-0.14.0-py37hf~ --> conda-forge::scikit-image-0.14.2-py36hf484d3e_0\n  scikit-learn                        0.19.2-py37h4989274_0 --> 0.20.1-py36h4989274_0\n\nThe following packages will be DOWNGRADED:\n\n  anaconda                                     5.3.0-py37_0 --> custom-py36_1\n\n\n\nDownloading and Extracting Packages\n",
          "name": "stdout"
        },
        {
          "output_type": "stream",
          "text": "wurlitzer-2.0.0      | 12 KB     | ##################################### | 100% \njoblib-0.15.1        | 202 KB    | ##################################### | 100% \ncertifi-2020.4.5.1   | 151 KB    | ##################################### | 100% \nbackports.os-0.1.1   | 15 KB     | ##################################### | 100% \nsphinxcontrib-htmlhe | 27 KB     | ##################################### | 100% \nca-certificates-2020 | 146 KB    | ##################################### | 100% \nsphinxcontrib-serial | 24 KB     | ##################################### | 100% \nsphinxcontrib-appleh | 28 KB     | ##################################### | 100% \nanaconda-custom      | 3 KB      | ##################################### | 100% \nfsspec-0.7.3         | 51 KB     | ##################################### | 100% \npyrsistent-0.16.0    | 89 KB     | ##################################### | 100% \nliblief-0.9.0        | 4.2 MB    | ##################################### | 100% \nopenssl-1.0.2u       | 3.2 MB    | ##################################### | 100% \ntbb-2020.1           | 1.4 MB    | ##################################### | 100% \nbranca-0.4.1         | 26 KB     | ##################################### | 100% \naltair-4.1.0         | 614 KB    | ##################################### | 100% \nsphinxcontrib-jsmath | 7 KB      | ##################################### | 100% \nripgrep-12.1.0       | 1.8 MB    | ##################################### | 100% \nsoupsieve-2.0.1      | 56 KB     | ##################################### | 100% \nfolium-0.5.0         | 45 KB     | ##################################### | 100% \ntbb4py-2020.1        | 245 KB    | ##################################### | 100% \nscikit-image-0.14.2  | 24.0 MB   | ##################################### | 100% \n_anaconda_depends-20 | 5 KB      | ##################################### | 100% \nimportlib-metadata-1 | 43 KB     | ##################################### | 100% \nzipp-3.1.0           | 10 KB     | ##################################### | 100% \njson5-0.9.0          | 24 KB     | ##################################### | 100% \njupyterlab_server-0. | 23 KB     | ##################################### | 100% \nsphinxcontrib-qthelp | 25 KB     | ##################################### | 100% \nconda-4.8.3          | 3.0 MB    | ##################################### | 100% \nimportlib_metadata-1 | 3 KB      | ##################################### | 100% \nsphinxcontrib-devhel | 22 KB     | ##################################### | 100% \nscikit-learn-0.20.1  | 5.7 MB    | ##################################### | 100% \npy-lief-0.9.0        | 1.4 MB    | ##################################### | 100% \nvincent-0.4.4        | 28 KB     | ##################################### | 100% \nPreparing transaction: done\nVerifying transaction: done\nExecuting transaction: done\n",
          "name": "stdout"
        }
      ]
    },
    {
      "metadata": {},
      "cell_type": "markdown",
      "source": "Now the coordinates of the North York Borough is printed. The user_agent is named NorthYork and an instance of the geocoder is defined"
    },
    {
      "metadata": {
        "trusted": true
      },
      "cell_type": "code",
      "source": "address = 'North York, Toronto, ON'\n\ngeolocator = Nominatim(user_agent=\"NorthYork\")\nlocation = geolocator.geocode(address)\nlatitude = location.latitude\nlongitude = location.longitude\nprint('The geograpical coordinate of {} are {}, {}.'.format(address, latitude, longitude))",
      "execution_count": 14,
      "outputs": [
        {
          "output_type": "stream",
          "text": "The geograpical coordinate of North York, Toronto, ON are 43.7543263, -79.44911696639593.\n",
          "name": "stdout"
        }
      ]
    },
    {
      "metadata": {},
      "cell_type": "markdown",
      "source": "### Define Foursquare Credentials and Version"
    },
    {
      "metadata": {
        "trusted": true
      },
      "cell_type": "code",
      "source": "CLIENT_ID = '2BT23JO4VR1V04OTBSNAW51L05YP54X22GWNDJXUYFQN1HHO' # your Foursquare ID\nCLIENT_SECRET = 'P5WEQHLO3NEWMJ1B3FVEI0AFN4Q5TW4KP5SKPST12DAVIKEV' # your Foursquare Secret\nVERSION = '20200515'\nLIMIT = 30\nprint('Your credentails:')\nprint('CLIENT_ID: ' + CLIENT_ID)\nprint('CLIENT_SECRET:' + CLIENT_SECRET)",
      "execution_count": 15,
      "outputs": [
        {
          "output_type": "stream",
          "text": "Your credentails:\nCLIENT_ID: 2BT23JO4VR1V04OTBSNAW51L05YP54X22GWNDJXUYFQN1HHO\nCLIENT_SECRET:P5WEQHLO3NEWMJ1B3FVEI0AFN4Q5TW4KP5SKPST12DAVIKEV\n",
          "name": "stdout"
        }
      ]
    },
    {
      "metadata": {},
      "cell_type": "markdown",
      "source": "#### Searching for Italian venueswithin 4 Km from North York"
    },
    {
      "metadata": {
        "trusted": true
      },
      "cell_type": "code",
      "source": "search_query = 'Italian'\nradius = 4000\nurl_italian = 'https://api.foursquare.com/v2/venues/search?client_id={}&client_secret={}&ll={},{}&v={}&query={}&radius={}&limit={}'.format(CLIENT_ID, CLIENT_SECRET, latitude, longitude, VERSION, search_query, radius, LIMIT)\nurl_italian",
      "execution_count": 18,
      "outputs": [
        {
          "output_type": "execute_result",
          "execution_count": 18,
          "data": {
            "text/plain": "'https://api.foursquare.com/v2/venues/search?client_id=2BT23JO4VR1V04OTBSNAW51L05YP54X22GWNDJXUYFQN1HHO&client_secret=P5WEQHLO3NEWMJ1B3FVEI0AFN4Q5TW4KP5SKPST12DAVIKEV&ll=43.7543263,-79.44911696639593&v=20200515&query=Italian&radius=4000&limit=30'"
          },
          "metadata": {}
        }
      ]
    },
    {
      "metadata": {},
      "cell_type": "markdown",
      "source": "#### Send the GET Request and examine the results"
    },
    {
      "metadata": {
        "trusted": true
      },
      "cell_type": "code",
      "source": "results = requests.get(url_italian).json()\nvenues = results['response']['venues']\n\n# tranform venues into a dataframe\ndataframe = json_normalize(venues)\n# keep only columns that include venue name, and anything that is associated with location\nfiltered_columns = ['name', 'categories'] + [col for col in dataframe.columns if col.startswith('location.')] + ['id']\ndataframe_filtered = dataframe.loc[:, filtered_columns]\n\n# function that extracts the category of the venue\ndef get_category_type(row):\n    try:\n        categories_list = row['categories']\n    except:\n        categories_list = row['venue.categories']\n        \n    if len(categories_list) == 0:\n        return None\n    else:\n        return categories_list[0]['name']\n\n# filter the category for each row\ndataframe_filtered['categories'] = dataframe_filtered.apply(get_category_type, axis=1)\n\n# clean column names by keeping only last term\ndataframe_filtered.columns = [column.split('.')[-1] for column in dataframe_filtered.columns]\n\ndataframe_filtered",
      "execution_count": 23,
      "outputs": [
        {
          "output_type": "execute_result",
          "execution_count": 23,
          "data": {
            "text/html": "<div>\n<style scoped>\n    .dataframe tbody tr th:only-of-type {\n        vertical-align: middle;\n    }\n\n    .dataframe tbody tr th {\n        vertical-align: top;\n    }\n\n    .dataframe thead th {\n        text-align: right;\n    }\n</style>\n<table border=\"1\" class=\"dataframe\">\n  <thead>\n    <tr style=\"text-align: right;\">\n      <th></th>\n      <th>name</th>\n      <th>categories</th>\n      <th>address</th>\n      <th>cc</th>\n      <th>city</th>\n      <th>country</th>\n      <th>crossStreet</th>\n      <th>distance</th>\n      <th>formattedAddress</th>\n      <th>labeledLatLngs</th>\n      <th>lat</th>\n      <th>lng</th>\n      <th>postalCode</th>\n      <th>state</th>\n      <th>id</th>\n    </tr>\n  </thead>\n  <tbody>\n    <tr>\n      <th>0</th>\n      <td>Jamie's Italian</td>\n      <td>Italian Restaurant</td>\n      <td>3401 Dufferin St</td>\n      <td>CA</td>\n      <td>Toronto</td>\n      <td>Canada</td>\n      <td>Allen Road and 401</td>\n      <td>3093</td>\n      <td>[3401 Dufferin St (Allen Road and 401), Toront...</td>\n      <td>[{'label': 'display', 'lat': 43.72668644119483...</td>\n      <td>43.726686</td>\n      <td>-79.453133</td>\n      <td>M6A 2T9</td>\n      <td>ON</td>\n      <td>566344c9498eedf4e11af0fa</td>\n    </tr>\n    <tr>\n      <th>1</th>\n      <td>Saggio Italian Eatery &amp; Espresdo Bar</td>\n      <td>Italian Restaurant</td>\n      <td>NaN</td>\n      <td>CA</td>\n      <td>Toronto</td>\n      <td>Canada</td>\n      <td>NaN</td>\n      <td>2265</td>\n      <td>[Toronto ON, Canada]</td>\n      <td>[{'label': 'display', 'lat': 43.75834033292955...</td>\n      <td>43.758340</td>\n      <td>-79.476741</td>\n      <td>NaN</td>\n      <td>ON</td>\n      <td>4de3e16efa7651589f21395e</td>\n    </tr>\n    <tr>\n      <th>2</th>\n      <td>Italian canadian savings and credit union</td>\n      <td>Building</td>\n      <td>Dufferin</td>\n      <td>CA</td>\n      <td>Toronto</td>\n      <td>Canada</td>\n      <td>NaN</td>\n      <td>5131</td>\n      <td>[Dufferin, Toronto ON, Canada]</td>\n      <td>[{'label': 'display', 'lat': 43.70835683159475...</td>\n      <td>43.708357</td>\n      <td>-79.453877</td>\n      <td>NaN</td>\n      <td>ON</td>\n      <td>52430d7611d2b3a076a88132</td>\n    </tr>\n    <tr>\n      <th>3</th>\n      <td>Dora's Italian</td>\n      <td>Italian Restaurant</td>\n      <td>NaN</td>\n      <td>CA</td>\n      <td>Toronto</td>\n      <td>Canada</td>\n      <td>NaN</td>\n      <td>2595</td>\n      <td>[Toronto ON, Canada]</td>\n      <td>[{'label': 'display', 'lat': 43.76812, 'lng': ...</td>\n      <td>43.768120</td>\n      <td>-79.475147</td>\n      <td>NaN</td>\n      <td>ON</td>\n      <td>4cfe726a084f54811f969009</td>\n    </tr>\n    <tr>\n      <th>4</th>\n      <td>Cumpari's Italian Eatery</td>\n      <td>Italian Restaurant</td>\n      <td>3610 dufferin street</td>\n      <td>CA</td>\n      <td>Toronto</td>\n      <td>Canada</td>\n      <td>Dufferin/Wilson</td>\n      <td>2620</td>\n      <td>[3610 dufferin street (Dufferin/Wilson), Toron...</td>\n      <td>[{'label': 'display', 'lat': 43.73211827821453...</td>\n      <td>43.732118</td>\n      <td>-79.459921</td>\n      <td>M3K 1N7</td>\n      <td>ON</td>\n      <td>52b5da0e498e96708cf1c974</td>\n    </tr>\n    <tr>\n      <th>5</th>\n      <td>La Paloma Italian Gelateria &amp; Cafe</td>\n      <td>Ice Cream Shop</td>\n      <td>NaN</td>\n      <td>CA</td>\n      <td>NaN</td>\n      <td>Canada</td>\n      <td>NaN</td>\n      <td>3144</td>\n      <td>[Canada]</td>\n      <td>[{'label': 'display', 'lat': 43.72617409960949...</td>\n      <td>43.726174</td>\n      <td>-79.452317</td>\n      <td>NaN</td>\n      <td>NaN</td>\n      <td>4fca400ae4b0ba2d58c1a97f</td>\n    </tr>\n    <tr>\n      <th>6</th>\n      <td>San Genaro Italian Eatery</td>\n      <td>Italian Restaurant</td>\n      <td>3500 Dufferin St</td>\n      <td>CA</td>\n      <td>Toronto</td>\n      <td>Canada</td>\n      <td>NaN</td>\n      <td>3821</td>\n      <td>[3500 Dufferin St, Toronto ON, Canada]</td>\n      <td>[{'label': 'display', 'lat': 43.72034199204557...</td>\n      <td>43.720342</td>\n      <td>-79.455828</td>\n      <td>NaN</td>\n      <td>ON</td>\n      <td>51830da6498eafb14b40f22c</td>\n    </tr>\n    <tr>\n      <th>7</th>\n      <td>Italiana Food Tech</td>\n      <td>Office</td>\n      <td>NaN</td>\n      <td>CA</td>\n      <td>Toronto</td>\n      <td>Canada</td>\n      <td>NaN</td>\n      <td>3323</td>\n      <td>[Toronto ON M2M 2H8, Canada]</td>\n      <td>[{'label': 'display', 'lat': 43.778259, 'lng':...</td>\n      <td>43.778259</td>\n      <td>-79.473842</td>\n      <td>M2M 2H8</td>\n      <td>ON</td>\n      <td>5afc6bea829b0c002c8ee4e8</td>\n    </tr>\n    <tr>\n      <th>8</th>\n      <td>Sandra's Italian Kitchen</td>\n      <td>None</td>\n      <td>2899 Steeles Ave W., Unit 12</td>\n      <td>CA</td>\n      <td>Toronto</td>\n      <td>Canada</td>\n      <td>Petrolia Rd.</td>\n      <td>4583</td>\n      <td>[2899 Steeles Ave W., Unit 12 (Petrolia Rd.), ...</td>\n      <td>[{'label': 'display', 'lat': 43.78199532390047...</td>\n      <td>43.781995</td>\n      <td>-79.491345</td>\n      <td>M3J 3B2</td>\n      <td>ON</td>\n      <td>4d8b6fed7139b1f7b6bbdfd4</td>\n    </tr>\n    <tr>\n      <th>9</th>\n      <td>Paisano's</td>\n      <td>Italian Restaurant</td>\n      <td>116 Willowdale Ave</td>\n      <td>CA</td>\n      <td>Toronto</td>\n      <td>Canada</td>\n      <td>Don Mills</td>\n      <td>4116</td>\n      <td>[116 Willowdale Ave (Don Mills), Toronto ON M3...</td>\n      <td>[{'label': 'display', 'lat': 43.76451778181641...</td>\n      <td>43.764518</td>\n      <td>-79.399898</td>\n      <td>M3B 1Y6</td>\n      <td>ON</td>\n      <td>4b69ad98f964a520f3ac2be3</td>\n    </tr>\n  </tbody>\n</table>\n</div>",
            "text/plain": "                                        name          categories  \\\n0                            Jamie's Italian  Italian Restaurant   \n1       Saggio Italian Eatery & Espresdo Bar  Italian Restaurant   \n2  Italian canadian savings and credit union            Building   \n3                             Dora's Italian  Italian Restaurant   \n4                   Cumpari's Italian Eatery  Italian Restaurant   \n5         La Paloma Italian Gelateria & Cafe      Ice Cream Shop   \n6                  San Genaro Italian Eatery  Italian Restaurant   \n7                         Italiana Food Tech              Office   \n8                   Sandra's Italian Kitchen                None   \n9                                  Paisano's  Italian Restaurant   \n\n                        address  cc     city country         crossStreet  \\\n0              3401 Dufferin St  CA  Toronto  Canada  Allen Road and 401   \n1                           NaN  CA  Toronto  Canada                 NaN   \n2                      Dufferin  CA  Toronto  Canada                 NaN   \n3                           NaN  CA  Toronto  Canada                 NaN   \n4          3610 dufferin street  CA  Toronto  Canada     Dufferin/Wilson   \n5                           NaN  CA      NaN  Canada                 NaN   \n6              3500 Dufferin St  CA  Toronto  Canada                 NaN   \n7                           NaN  CA  Toronto  Canada                 NaN   \n8  2899 Steeles Ave W., Unit 12  CA  Toronto  Canada        Petrolia Rd.   \n9            116 Willowdale Ave  CA  Toronto  Canada           Don Mills   \n\n   distance                                   formattedAddress  \\\n0      3093  [3401 Dufferin St (Allen Road and 401), Toront...   \n1      2265                               [Toronto ON, Canada]   \n2      5131                     [Dufferin, Toronto ON, Canada]   \n3      2595                               [Toronto ON, Canada]   \n4      2620  [3610 dufferin street (Dufferin/Wilson), Toron...   \n5      3144                                           [Canada]   \n6      3821             [3500 Dufferin St, Toronto ON, Canada]   \n7      3323                       [Toronto ON M2M 2H8, Canada]   \n8      4583  [2899 Steeles Ave W., Unit 12 (Petrolia Rd.), ...   \n9      4116  [116 Willowdale Ave (Don Mills), Toronto ON M3...   \n\n                                      labeledLatLngs        lat        lng  \\\n0  [{'label': 'display', 'lat': 43.72668644119483...  43.726686 -79.453133   \n1  [{'label': 'display', 'lat': 43.75834033292955...  43.758340 -79.476741   \n2  [{'label': 'display', 'lat': 43.70835683159475...  43.708357 -79.453877   \n3  [{'label': 'display', 'lat': 43.76812, 'lng': ...  43.768120 -79.475147   \n4  [{'label': 'display', 'lat': 43.73211827821453...  43.732118 -79.459921   \n5  [{'label': 'display', 'lat': 43.72617409960949...  43.726174 -79.452317   \n6  [{'label': 'display', 'lat': 43.72034199204557...  43.720342 -79.455828   \n7  [{'label': 'display', 'lat': 43.778259, 'lng':...  43.778259 -79.473842   \n8  [{'label': 'display', 'lat': 43.78199532390047...  43.781995 -79.491345   \n9  [{'label': 'display', 'lat': 43.76451778181641...  43.764518 -79.399898   \n\n  postalCode state                        id  \n0    M6A 2T9    ON  566344c9498eedf4e11af0fa  \n1        NaN    ON  4de3e16efa7651589f21395e  \n2        NaN    ON  52430d7611d2b3a076a88132  \n3        NaN    ON  4cfe726a084f54811f969009  \n4    M3K 1N7    ON  52b5da0e498e96708cf1c974  \n5        NaN   NaN  4fca400ae4b0ba2d58c1a97f  \n6        NaN    ON  51830da6498eafb14b40f22c  \n7    M2M 2H8    ON  5afc6bea829b0c002c8ee4e8  \n8    M3J 3B2    ON  4d8b6fed7139b1f7b6bbdfd4  \n9    M3B 1Y6    ON  4b69ad98f964a520f3ac2be3  "
          },
          "metadata": {}
        }
      ]
    },
    {
      "metadata": {},
      "cell_type": "markdown",
      "source": "Now we can show the venues on the map"
    },
    {
      "metadata": {
        "trusted": true
      },
      "cell_type": "code",
      "source": "venues_map = folium.Map(location=[latitude, longitude], zoom_start=13) # generate map centred around the Conrad Hotel\n\n# add the Italian restaurants as blue circle markers\nfor lat, lng, label in zip(dataframe_filtered.lat, dataframe_filtered.lng, dataframe_filtered.categories):\n    folium.features.CircleMarker(\n        [lat, lng],\n        radius=5,\n        color='blue',\n        popup=label,\n        fill = True,\n        fill_color='blue',\n        fill_opacity=0.6\n    ).add_to(venues_map)\n\n# display map\nvenues_map",
      "execution_count": 24,
      "outputs": [
        {
          "output_type": "execute_result",
          "execution_count": 24,
          "data": {
            "text/html": "<div style=\"width:100%;\"><div style=\"position:relative;width:100%;height:0;padding-bottom:60%;\"><span style=\"color:#565656\">Make this Notebook Trusted to load map: File -> Trust Notebook</span><iframe src=\"about:blank\" style=\"position:absolute;width:100%;height:100%;left:0;top:0;border:none !important;\" data-html=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 onload=\"this.contentDocument.open();this.contentDocument.write(atob(this.getAttribute('data-html')));this.contentDocument.close();\" allowfullscreen webkitallowfullscreen mozallowfullscreen></iframe></div></div>",
            "text/plain": "<folium.folium.Map at 0x7fb78eee5f60>"
          },
          "metadata": {}
        }
      ]
    },
    {
      "metadata": {
        "trusted": true
      },
      "cell_type": "code",
      "source": "",
      "execution_count": null,
      "outputs": []
    }
  ],
  "metadata": {
    "kernelspec": {
      "name": "python36",
      "display_name": "Python 3.6",
      "language": "python"
    },
    "language_info": {
      "mimetype": "text/x-python",
      "nbconvert_exporter": "python",
      "name": "python",
      "pygments_lexer": "ipython3",
      "version": "3.6.6",
      "file_extension": ".py",
      "codemirror_mode": {
        "version": 3,
        "name": "ipython"
      }
    }
  },
  "nbformat": 4,
  "nbformat_minor": 2
}
