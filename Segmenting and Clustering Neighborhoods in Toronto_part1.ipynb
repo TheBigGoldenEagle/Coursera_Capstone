{
  "cells": [
    {
      "metadata": {},
      "cell_type": "markdown",
      "source": "The purpose of this Notebook to build the code to scrape the following Wikipedia page, https://en.wikipedia.org/wiki/List_of_postal_codes_of_Canada:_M, in order to obtain the data that is in the table of postal codes and to transform the data into a pandas dataframe like the one shown below"
    },
    {
      "metadata": {},
      "cell_type": "markdown",
      "source": "![](image1.png)"
    },
    {
      "metadata": {
        "collapsed": true
      },
      "cell_type": "markdown",
      "source": "#### Importing required libraries\n"
    },
    {
      "metadata": {
        "trusted": true
      },
      "cell_type": "code",
      "source": "import pandas as pd\nimport requests   \nimport lxml\nfrom bs4 import BeautifulSoup       \n",
      "execution_count": null,
      "outputs": []
    },
    {
      "metadata": {},
      "cell_type": "markdown",
      "source": "#### Scraping the Wikipedia page and conerting its data into a pandas dataframe with three columns: Postalcode, Borough, Neighborhood"
    },
    {
      "metadata": {
        "trusted": true
      },
      "cell_type": "code",
      "source": "raw_data = requests.get(\"https://en.wikipedia.org/wiki/List_of_postal_codes_of_Canada:_M\").text\nsoup = BeautifulSoup(raw_data,'lxml')\ntable=soup.find('table', attrs={'class':'wikitable sortable'})\ndf = df = pd.DataFrame(columns = ['Postalcode','Borough','Neighborhood'])\nrows = table.find_all('tr')\nfor row in rows:\n    data=[]\n    for td in row.find_all('td'):\n        data.append(td.text.strip())\n    if len(data)==3:\n        df.loc[len(df)] = data\n \ndf.head()\n",
      "execution_count": null,
      "outputs": []
    },
    {
      "metadata": {},
      "cell_type": "markdown",
      "source": "#### Only the cells that have an assigned borough are processed and therefore the cells with a borough that is Not assigned are ignored"
    },
    {
      "metadata": {
        "trusted": true
      },
      "cell_type": "code",
      "source": "df = df[df.Borough != \"Not assigned\"]\ndf.head()",
      "execution_count": null,
      "outputs": []
    },
    {
      "metadata": {},
      "cell_type": "markdown",
      "source": "#### If a cell has a borough but a Not assigned neighborhood, then the neighborhood will be the same as the borough"
    },
    {
      "metadata": {
        "trusted": true
      },
      "cell_type": "code",
      "source": "df['Neighborhood'] = df.Neighborhood.apply(lambda x: x if not pd.isnull(x) else df.Borough)\ndf.head()",
      "execution_count": null,
      "outputs": []
    },
    {
      "metadata": {},
      "cell_type": "markdown",
      "source": "#### using the .shape method to print the number of rows of the dataframe"
    },
    {
      "metadata": {
        "trusted": true
      },
      "cell_type": "code",
      "source": "df.shape",
      "execution_count": null,
      "outputs": []
    },
    {
      "metadata": {
        "trusted": true
      },
      "cell_type": "code",
      "source": "",
      "execution_count": null,
      "outputs": []
    }
  ],
  "metadata": {
    "kernelspec": {
      "name": "python36",
      "display_name": "Python 3.6",
      "language": "python"
    },
    "language_info": {
      "mimetype": "text/x-python",
      "nbconvert_exporter": "python",
      "name": "python",
      "pygments_lexer": "ipython3",
      "version": "3.6.6",
      "file_extension": ".py",
      "codemirror_mode": {
        "version": 3,
        "name": "ipython"
      }
    }
  },
  "nbformat": 4,
  "nbformat_minor": 2
}